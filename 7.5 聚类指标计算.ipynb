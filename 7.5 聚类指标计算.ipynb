{
 "cells": [
  {
   "cell_type": "code",
   "execution_count": 1,
   "metadata": {
    "collapsed": true
   },
   "outputs": [],
   "source": [
    "import pandas as pd\n",
    "import matplotlib.pyplot as plt\n",
    "from sklearn.cluster import KMeans\n",
    "from sklearn import preprocessing\n",
    "from sklearn import metrics\n",
    "import math\n",
    "import numpy as np"
   ]
  },
  {
   "cell_type": "markdown",
   "metadata": {},
   "source": [
    "# 均值与标准差 欧式距离"
   ]
  },
  {
   "cell_type": "code",
   "execution_count": 2,
   "metadata": {
    "collapsed": true
   },
   "outputs": [],
   "source": [
    "data = pd.read_excel('均值与标准差.xlsx',encoding = 'gbk')"
   ]
  },
  {
   "cell_type": "code",
   "execution_count": 3,
   "metadata": {
    "collapsed": true
   },
   "outputs": [],
   "source": [
    "data1 = data.drop(['按季节分类','直接分类','两阶聚类'],axis= 1)\n",
    "data2 = data.drop(['直接分类','按七项分类','两阶聚类'],axis= 1)\n",
    "data3 = data.drop(['按季节分类','按七项分类','两阶聚类'],axis= 1)\n",
    "data4 = data.drop(['按季节分类','直接分类','按七项分类'],axis= 1)"
   ]
  },
  {
   "cell_type": "code",
   "execution_count": 4,
   "metadata": {
    "collapsed": false
   },
   "outputs": [],
   "source": [
    "# 数据归一化\n",
    "data_up = data1[['均值','标准差']]\n",
    "data_scaled = preprocessing.scale(data_up)\n",
    "data1[['均值','标准差']] = data_scaled\n",
    "data_up = data2[['均值','标准差']]\n",
    "data_scaled = preprocessing.scale(data_up)\n",
    "data2[['均值','标准差']] = data_scaled\n",
    "data_up = data3[['均值','标准差']]\n",
    "data_scaled = preprocessing.scale(data_up)\n",
    "data3[['均值','标准差']] = data_scaled\n",
    "data_up = data4[['均值','标准差']]\n",
    "data_scaled = preprocessing.scale(data_up)\n",
    "data4[['均值','标准差']] = data_scaled"
   ]
  },
  {
   "cell_type": "code",
   "execution_count": 5,
   "metadata": {
    "collapsed": false
   },
   "outputs": [],
   "source": [
    "data10 = data1[data1['按七项分类'] == 0]\n",
    "data11 = data1[data1['按七项分类'] == 1]\n",
    "data12 = data1[data1['按七项分类'] == 2]\n",
    "data13 = data1[data1['按七项分类'] == 3]\n",
    "\n",
    "data20 = data2[data2['按季节分类'] == 0]\n",
    "data21 = data2[data2['按季节分类'] == 1]\n",
    "data22 = data2[data2['按季节分类'] == 2]\n",
    "data23 = data2[data2['按季节分类'] == 3]\n",
    "\n",
    "data30 = data3[data3['直接分类'] == 0]\n",
    "data31 = data3[data3['直接分类'] == 1]\n",
    "data32 = data3[data3['直接分类'] == 2]\n",
    "data33 = data3[data3['直接分类'] == 3]\n",
    "\n",
    "data40 = data4[data4['两阶聚类'] == 0]\n",
    "data41 = data4[data4['两阶聚类'] == 1]\n",
    "data42 = data4[data4['两阶聚类'] == 2]\n",
    "data43 = data4[data4['两阶聚类'] == 3]"
   ]
  },
  {
   "cell_type": "markdown",
   "metadata": {},
   "source": [
    "按七项分类，欧式距离"
   ]
  },
  {
   "cell_type": "code",
   "execution_count": 6,
   "metadata": {
    "collapsed": false
   },
   "outputs": [
    {
     "data": {
      "text/plain": [
       "144.8891511315192"
      ]
     },
     "execution_count": 6,
     "metadata": {},
     "output_type": "execute_result"
    }
   ],
   "source": [
    "a = data10['均值'].mean(axis = 0)\n",
    "b = data10['标准差'].mean(axis = 0)\n",
    "num0 = data10.apply(lambda x:  math.sqrt((x['均值']- a)**2 + (x['标准差'] - b)**2 ),axis = 1)\n",
    "\n",
    "a = data11['均值'].mean(axis = 0)\n",
    "b = data11['标准差'].mean(axis = 0)\n",
    "num1 = data11.apply(lambda x:  math.sqrt((x['均值']- a)**2 + (x['标准差'] - b)**2 ),axis = 1)\n",
    "\n",
    "a = data12['均值'].mean(axis = 0)\n",
    "b = data12['标准差'].mean(axis = 0)\n",
    "num2 = data12.apply(lambda x:  math.sqrt((x['均值']- a)**2 + (x['标准差'] - b)**2 ),axis = 1)\n",
    "\n",
    "a = data13['均值'].mean(axis = 0)\n",
    "b = data13['标准差'].mean(axis = 0)\n",
    "num3 = data13.apply(lambda x:  math.sqrt((x['均值']- a)**2 + (x['标准差'] - b)**2 ),axis = 1)\n",
    "\n",
    "sumdata = num0.sum() + num1.sum() +  num2.sum() +  num3.sum()\n",
    "sumdata"
   ]
  },
  {
   "cell_type": "markdown",
   "metadata": {},
   "source": [
    "按季节分类，欧式距离"
   ]
  },
  {
   "cell_type": "code",
   "execution_count": 7,
   "metadata": {
    "collapsed": false
   },
   "outputs": [
    {
     "data": {
      "text/plain": [
       "179.062768568963"
      ]
     },
     "execution_count": 7,
     "metadata": {},
     "output_type": "execute_result"
    }
   ],
   "source": [
    "a = data20['均值'].mean(axis = 0)\n",
    "b = data20['标准差'].mean(axis = 0)\n",
    "num0 = data20.apply(lambda x:  math.sqrt((x['均值']- a)**2 + (x['标准差'] - b)**2 ),axis = 1)\n",
    "\n",
    "a = data21['均值'].mean(axis = 0)\n",
    "b = data21['标准差'].mean(axis = 0)\n",
    "num1 = data21.apply(lambda x:  math.sqrt((x['均值']- a)**2 + (x['标准差'] - b)**2 ),axis = 1)\n",
    "\n",
    "a = data22['均值'].mean(axis = 0)\n",
    "b = data22['标准差'].mean(axis = 0)\n",
    "num2 = data22.apply(lambda x:  math.sqrt((x['均值']- a)**2 + (x['标准差'] - b)**2 ),axis = 1)\n",
    "\n",
    "a = data23['均值'].mean(axis = 0)\n",
    "b = data23['标准差'].mean(axis = 0)\n",
    "num3 = data23.apply(lambda x:  math.sqrt((x['均值']- a)**2 + (x['标准差'] - b)**2 ),axis = 1)\n",
    "\n",
    "sumdata = num0.sum() + num1.sum() +  num2.sum() +  num3.sum()\n",
    "sumdata"
   ]
  },
  {
   "cell_type": "markdown",
   "metadata": {},
   "source": [
    "直接分类，欧式距离"
   ]
  },
  {
   "cell_type": "code",
   "execution_count": 8,
   "metadata": {
    "collapsed": false
   },
   "outputs": [
    {
     "data": {
      "text/plain": [
       "140.44683439155347"
      ]
     },
     "execution_count": 8,
     "metadata": {},
     "output_type": "execute_result"
    }
   ],
   "source": [
    "a = data30['均值'].mean(axis = 0)\n",
    "b = data30['标准差'].mean(axis = 0)\n",
    "num0 = data30.apply(lambda x:  math.sqrt((x['均值']- a)**2 + (x['标准差'] - b)**2 ),axis = 1)\n",
    "\n",
    "a = data31['均值'].mean(axis = 0)\n",
    "b = data31['标准差'].mean(axis = 0)\n",
    "num1 = data31.apply(lambda x:  math.sqrt((x['均值']- a)**2 + (x['标准差'] - b)**2 ),axis = 1)\n",
    "\n",
    "a = data32['均值'].mean(axis = 0)\n",
    "b = data32['标准差'].mean(axis = 0)\n",
    "num2 = data32.apply(lambda x:  math.sqrt((x['均值']- a)**2 + (x['标准差'] - b)**2 ),axis = 1)\n",
    "\n",
    "a = data33['均值'].mean(axis = 0)\n",
    "b = data33['标准差'].mean(axis = 0)\n",
    "num3 = data33.apply(lambda x:  math.sqrt((x['均值']- a)**2 + (x['标准差'] - b)**2 ),axis = 1)\n",
    "\n",
    "sumdata = num0.sum() + num1.sum() +  num2.sum() +  num3.sum()\n",
    "sumdata"
   ]
  },
  {
   "cell_type": "markdown",
   "metadata": {},
   "source": [
    "两阶分类，欧式距离"
   ]
  },
  {
   "cell_type": "code",
   "execution_count": 9,
   "metadata": {
    "collapsed": false
   },
   "outputs": [
    {
     "data": {
      "text/plain": [
       "148.7501328079048"
      ]
     },
     "execution_count": 9,
     "metadata": {},
     "output_type": "execute_result"
    }
   ],
   "source": [
    "a = data40['均值'].mean(axis = 0)\n",
    "b = data40['标准差'].mean(axis = 0)\n",
    "num0 = data40.apply(lambda x:  math.sqrt((x['均值']- a)**2 + (x['标准差'] - b)**2 ),axis = 1)\n",
    "\n",
    "a = data41['均值'].mean(axis = 0)\n",
    "b = data41['标准差'].mean(axis = 0)\n",
    "num1 = data41.apply(lambda x:  math.sqrt((x['均值']- a)**2 + (x['标准差'] - b)**2 ),axis = 1)\n",
    "\n",
    "a = data42['均值'].mean(axis = 0)\n",
    "b = data42['标准差'].mean(axis = 0)\n",
    "num2 = data42.apply(lambda x:  math.sqrt((x['均值']- a)**2 + (x['标准差'] - b)**2 ),axis = 1)\n",
    "\n",
    "a = data43['均值'].mean(axis = 0)\n",
    "b = data43['标准差'].mean(axis = 0)\n",
    "num3 = data43.apply(lambda x:  math.sqrt((x['均值']- a)**2 + (x['标准差'] - b)**2 ),axis = 1)\n",
    "\n",
    "sumdata = num0.sum() + num1.sum() +  num2.sum() +  num3.sum()\n",
    "sumdata"
   ]
  },
  {
   "cell_type": "markdown",
   "metadata": {},
   "source": [
    "# 季节平均值 欧式距离"
   ]
  },
  {
   "cell_type": "code",
   "execution_count": 11,
   "metadata": {
    "collapsed": true
   },
   "outputs": [],
   "source": [
    "data = pd.read_excel('季度均值.xlsx',encoding = 'gbk')"
   ]
  },
  {
   "cell_type": "code",
   "execution_count": 12,
   "metadata": {
    "collapsed": true
   },
   "outputs": [],
   "source": [
    "data1 = data.drop(['按季节分类','直接分类','两阶聚类'],axis= 1)\n",
    "data2 = data.drop(['直接分类','按七项分类','两阶聚类'],axis= 1)\n",
    "data3 = data.drop(['按季节分类','按七项分类','两阶聚类'],axis= 1)\n",
    "data4 = data.drop(['按季节分类','直接分类','按七项分类'],axis= 1)"
   ]
  },
  {
   "cell_type": "code",
   "execution_count": 13,
   "metadata": {
    "collapsed": false
   },
   "outputs": [
    {
     "data": {
      "text/html": [
       "<div>\n",
       "<style scoped>\n",
       "    .dataframe tbody tr th:only-of-type {\n",
       "        vertical-align: middle;\n",
       "    }\n",
       "\n",
       "    .dataframe tbody tr th {\n",
       "        vertical-align: top;\n",
       "    }\n",
       "\n",
       "    .dataframe thead th {\n",
       "        text-align: right;\n",
       "    }\n",
       "</style>\n",
       "<table border=\"1\" class=\"dataframe\">\n",
       "  <thead>\n",
       "    <tr style=\"text-align: right;\">\n",
       "      <th></th>\n",
       "      <th>房间</th>\n",
       "      <th>夏季均值</th>\n",
       "      <th>夏季标准差</th>\n",
       "      <th>秋季均值</th>\n",
       "      <th>秋季标准差</th>\n",
       "      <th>冬季均值</th>\n",
       "      <th>冬季标准差</th>\n",
       "      <th>按七项分类</th>\n",
       "    </tr>\n",
       "  </thead>\n",
       "  <tbody>\n",
       "    <tr>\n",
       "      <th>0</th>\n",
       "      <td>15_  101</td>\n",
       "      <td>5.82</td>\n",
       "      <td>4.32</td>\n",
       "      <td>6.80</td>\n",
       "      <td>4.86</td>\n",
       "      <td>10.28</td>\n",
       "      <td>7.13</td>\n",
       "      <td>3</td>\n",
       "    </tr>\n",
       "    <tr>\n",
       "      <th>1</th>\n",
       "      <td>15_  103</td>\n",
       "      <td>7.55</td>\n",
       "      <td>2.28</td>\n",
       "      <td>8.90</td>\n",
       "      <td>2.72</td>\n",
       "      <td>11.66</td>\n",
       "      <td>6.18</td>\n",
       "      <td>3</td>\n",
       "    </tr>\n",
       "    <tr>\n",
       "      <th>2</th>\n",
       "      <td>15_  105</td>\n",
       "      <td>3.67</td>\n",
       "      <td>2.45</td>\n",
       "      <td>5.61</td>\n",
       "      <td>3.21</td>\n",
       "      <td>11.93</td>\n",
       "      <td>5.80</td>\n",
       "      <td>3</td>\n",
       "    </tr>\n",
       "    <tr>\n",
       "      <th>3</th>\n",
       "      <td>15_  106</td>\n",
       "      <td>3.69</td>\n",
       "      <td>2.38</td>\n",
       "      <td>5.46</td>\n",
       "      <td>3.93</td>\n",
       "      <td>3.48</td>\n",
       "      <td>5.68</td>\n",
       "      <td>2</td>\n",
       "    </tr>\n",
       "    <tr>\n",
       "      <th>4</th>\n",
       "      <td>15_  107</td>\n",
       "      <td>7.74</td>\n",
       "      <td>2.99</td>\n",
       "      <td>6.94</td>\n",
       "      <td>3.69</td>\n",
       "      <td>15.21</td>\n",
       "      <td>5.98</td>\n",
       "      <td>3</td>\n",
       "    </tr>\n",
       "  </tbody>\n",
       "</table>\n",
       "</div>"
      ],
      "text/plain": [
       "         房间  夏季均值  夏季标准差  秋季均值  秋季标准差   冬季均值  冬季标准差  按七项分类\n",
       "0  15_  101  5.82   4.32  6.80   4.86  10.28   7.13      3\n",
       "1  15_  103  7.55   2.28  8.90   2.72  11.66   6.18      3\n",
       "2  15_  105  3.67   2.45  5.61   3.21  11.93   5.80      3\n",
       "3  15_  106  3.69   2.38  5.46   3.93   3.48   5.68      2\n",
       "4  15_  107  7.74   2.99  6.94   3.69  15.21   5.98      3"
      ]
     },
     "execution_count": 13,
     "metadata": {},
     "output_type": "execute_result"
    }
   ],
   "source": [
    "data1.head()"
   ]
  },
  {
   "cell_type": "code",
   "execution_count": 14,
   "metadata": {
    "collapsed": true
   },
   "outputs": [],
   "source": [
    "# 数据归一化\n",
    "data_up = data1[['夏季均值','秋季均值','冬季均值','夏季标准差','秋季标准差','冬季标准差']]\n",
    "data_scaled = preprocessing.scale(data_up)\n",
    "data1[['夏季均值','秋季均值','冬季均值','夏季标准差','秋季标准差','冬季标准差']] = data_scaled\n",
    "data_up = data2[['夏季均值','秋季均值','冬季均值','夏季标准差','秋季标准差','冬季标准差']]\n",
    "data_scaled = preprocessing.scale(data_up)\n",
    "data2[['夏季均值','秋季均值','冬季均值','夏季标准差','秋季标准差','冬季标准差']] = data_scaled\n",
    "data_up = data3[['夏季均值','秋季均值','冬季均值','夏季标准差','秋季标准差','冬季标准差']]\n",
    "data_scaled = preprocessing.scale(data_up)\n",
    "data3[['夏季均值','秋季均值','冬季均值','夏季标准差','秋季标准差','冬季标准差']] = data_scaled\n",
    "data_up = data4[['夏季均值','秋季均值','冬季均值','夏季标准差','秋季标准差','冬季标准差']]\n",
    "data_scaled = preprocessing.scale(data_up)\n",
    "data4[['夏季均值','秋季均值','冬季均值','夏季标准差','秋季标准差','冬季标准差']] = data_scaled"
   ]
  },
  {
   "cell_type": "code",
   "execution_count": 15,
   "metadata": {
    "collapsed": true
   },
   "outputs": [],
   "source": [
    "data10 = data1[data1['按七项分类'] == 0]\n",
    "data11 = data1[data1['按七项分类'] == 1]\n",
    "data12 = data1[data1['按七项分类'] == 2]\n",
    "data13 = data1[data1['按七项分类'] == 3]\n",
    "\n",
    "data20 = data2[data2['按季节分类'] == 0]\n",
    "data21 = data2[data2['按季节分类'] == 1]\n",
    "data22 = data2[data2['按季节分类'] == 2]\n",
    "data23 = data2[data2['按季节分类'] == 3]\n",
    "\n",
    "data30 = data3[data3['直接分类'] == 0]\n",
    "data31 = data3[data3['直接分类'] == 1]\n",
    "data32 = data3[data3['直接分类'] == 2]\n",
    "data33 = data3[data3['直接分类'] == 3]\n",
    "\n",
    "data40 = data4[data4['两阶聚类'] == 0]\n",
    "data41 = data4[data4['两阶聚类'] == 1]\n",
    "data42 = data4[data4['两阶聚类'] == 2]\n",
    "data43 = data4[data4['两阶聚类'] == 3]"
   ]
  },
  {
   "cell_type": "markdown",
   "metadata": {},
   "source": [
    "按七项分类，欧式距离"
   ]
  },
  {
   "cell_type": "code",
   "execution_count": 16,
   "metadata": {
    "collapsed": false
   },
   "outputs": [
    {
     "data": {
      "text/plain": [
       "405.24098308826854"
      ]
     },
     "execution_count": 16,
     "metadata": {},
     "output_type": "execute_result"
    }
   ],
   "source": [
    "a = data10['夏季均值'].mean(axis = 0)\n",
    "b = data10['秋季均值'].mean(axis = 0)\n",
    "c = data10['冬季均值'].mean(axis = 0)\n",
    "d = data10['夏季标准差'].mean(axis = 0)\n",
    "e = data10['秋季标准差'].mean(axis = 0)\n",
    "f = data10['冬季标准差'].mean(axis = 0)\n",
    "num0 = data10.apply(lambda x:  math.sqrt((x['夏季均值']- a)**2 + (x['秋季均值'] - b)**2 + (x['冬季均值'] - c)**2 \n",
    "                                         + (x['夏季标准差'] - d)**2 + (x['秋季标准差'] - e)**2 + (x['冬季标准差'] - f)**2),axis = 1)\n",
    "\n",
    "a = data11['夏季均值'].mean(axis = 0)\n",
    "b = data11['秋季均值'].mean(axis = 0)\n",
    "c = data11['冬季均值'].mean(axis = 0)\n",
    "d = data11['夏季标准差'].mean(axis = 0)\n",
    "e = data11['秋季标准差'].mean(axis = 0)\n",
    "f = data11['冬季标准差'].mean(axis = 0)\n",
    "num1 = data11.apply(lambda x:  math.sqrt((x['夏季均值']- a)**2 + (x['秋季均值'] - b)**2 + (x['冬季均值'] - c)**2 \n",
    "                                         + (x['夏季标准差'] - d)**2 + (x['秋季标准差'] - e)**2 + (x['冬季标准差'] - f)**2),axis = 1)\n",
    "\n",
    "a = data12['夏季均值'].mean(axis = 0)\n",
    "b = data12['秋季均值'].mean(axis = 0)\n",
    "c = data12['冬季均值'].mean(axis = 0)\n",
    "d = data12['夏季标准差'].mean(axis = 0)\n",
    "e = data12['秋季标准差'].mean(axis = 0)\n",
    "f = data12['冬季标准差'].mean(axis = 0)\n",
    "num2 = data12.apply(lambda x:  math.sqrt((x['夏季均值']- a)**2 + (x['秋季均值'] - b)**2 + (x['冬季均值'] - c)**2 \n",
    "                                         + (x['夏季标准差'] - d)**2 + (x['秋季标准差'] - e)**2 + (x['冬季标准差'] - f)**2),axis = 1)\n",
    "\n",
    "a = data13['夏季均值'].mean(axis = 0)\n",
    "b = data13['秋季均值'].mean(axis = 0)\n",
    "c = data13['冬季均值'].mean(axis = 0)\n",
    "d = data13['夏季标准差'].mean(axis = 0)\n",
    "e = data13['秋季标准差'].mean(axis = 0)\n",
    "f = data13['冬季标准差'].mean(axis = 0)\n",
    "num3 = data13.apply(lambda x:  math.sqrt((x['夏季均值']- a)**2 + (x['秋季均值'] - b)**2 + (x['冬季均值'] - c)**2 \n",
    "                                         + (x['夏季标准差'] - d)**2 + (x['秋季标准差'] - e)**2 + (x['冬季标准差'] - f)**2),axis = 1)\n",
    "\n",
    "sumdata = num0.sum() + num1.sum() +  num2.sum() +  num3.sum()\n",
    "sumdata"
   ]
  },
  {
   "cell_type": "markdown",
   "metadata": {
    "collapsed": true
   },
   "source": [
    "按季节分类，欧式距离"
   ]
  },
  {
   "cell_type": "code",
   "execution_count": 17,
   "metadata": {
    "collapsed": false
   },
   "outputs": [
    {
     "data": {
      "text/plain": [
       "390.14426798095224"
      ]
     },
     "execution_count": 17,
     "metadata": {},
     "output_type": "execute_result"
    }
   ],
   "source": [
    "a = data20['夏季均值'].mean(axis = 0)\n",
    "b = data20['秋季均值'].mean(axis = 0)\n",
    "c = data20['冬季均值'].mean(axis = 0)\n",
    "d = data20['夏季标准差'].mean(axis = 0)\n",
    "e = data20['秋季标准差'].mean(axis = 0)\n",
    "f = data20['冬季标准差'].mean(axis = 0)\n",
    "num0 = data20.apply(lambda x:  math.sqrt((x['夏季均值']- a)**2 + (x['秋季均值'] - b)**2 + (x['冬季均值'] - c)**2 \n",
    "                                         + (x['夏季标准差'] - d)**2 + (x['秋季标准差'] - e)**2 + (x['冬季标准差'] - f)**2),axis = 1)\n",
    "\n",
    "a = data21['夏季均值'].mean(axis = 0)\n",
    "b = data21['秋季均值'].mean(axis = 0)\n",
    "c = data21['冬季均值'].mean(axis = 0)\n",
    "d = data21['夏季标准差'].mean(axis = 0)\n",
    "e = data21['秋季标准差'].mean(axis = 0)\n",
    "f = data21['冬季标准差'].mean(axis = 0)\n",
    "num1 = data21.apply(lambda x:  math.sqrt((x['夏季均值']- a)**2 + (x['秋季均值'] - b)**2 + (x['冬季均值'] - c)**2 \n",
    "                                         + (x['夏季标准差'] - d)**2 + (x['秋季标准差'] - e)**2 + (x['冬季标准差'] - f)**2),axis = 1)\n",
    "\n",
    "a = data22['夏季均值'].mean(axis = 0)\n",
    "b = data22['秋季均值'].mean(axis = 0)\n",
    "c = data22['冬季均值'].mean(axis = 0)\n",
    "d = data22['夏季标准差'].mean(axis = 0)\n",
    "e = data22['秋季标准差'].mean(axis = 0)\n",
    "f = data22['冬季标准差'].mean(axis = 0)\n",
    "num2 = data22.apply(lambda x:  math.sqrt((x['夏季均值']- a)**2 + (x['秋季均值'] - b)**2 + (x['冬季均值'] - c)**2 \n",
    "                                         + (x['夏季标准差'] - d)**2 + (x['秋季标准差'] - e)**2 + (x['冬季标准差'] - f)**2),axis = 1)\n",
    "\n",
    "a = data23['夏季均值'].mean(axis = 0)\n",
    "b = data23['秋季均值'].mean(axis = 0)\n",
    "c = data23['冬季均值'].mean(axis = 0)\n",
    "d = data23['夏季标准差'].mean(axis = 0)\n",
    "e = data23['秋季标准差'].mean(axis = 0)\n",
    "f = data23['冬季标准差'].mean(axis = 0)\n",
    "num3 = data23.apply(lambda x:  math.sqrt((x['夏季均值']- a)**2 + (x['秋季均值'] - b)**2 + (x['冬季均值'] - c)**2 \n",
    "                                         + (x['夏季标准差'] - d)**2 + (x['秋季标准差'] - e)**2 + (x['冬季标准差'] - f)**2),axis = 1)\n",
    "\n",
    "sumdata = num0.sum() + num1.sum() +  num2.sum() +  num3.sum()\n",
    "sumdata"
   ]
  },
  {
   "cell_type": "markdown",
   "metadata": {},
   "source": [
    "直接分类，欧式距离"
   ]
  },
  {
   "cell_type": "code",
   "execution_count": 18,
   "metadata": {
    "collapsed": false
   },
   "outputs": [
    {
     "data": {
      "text/plain": [
       "410.79823964204"
      ]
     },
     "execution_count": 18,
     "metadata": {},
     "output_type": "execute_result"
    }
   ],
   "source": [
    "a = data30['夏季均值'].mean(axis = 0)\n",
    "b = data30['秋季均值'].mean(axis = 0)\n",
    "c = data30['冬季均值'].mean(axis = 0)\n",
    "d = data30['夏季标准差'].mean(axis = 0)\n",
    "e = data30['秋季标准差'].mean(axis = 0)\n",
    "f = data30['冬季标准差'].mean(axis = 0)\n",
    "num0 = data30.apply(lambda x:  math.sqrt((x['夏季均值']- a)**2 + (x['秋季均值'] - b)**2 + (x['冬季均值'] - c)**2 \n",
    "                                         + (x['夏季标准差'] - d)**2 + (x['秋季标准差'] - e)**2 + (x['冬季标准差'] - f)**2),axis = 1)\n",
    "\n",
    "a = data31['夏季均值'].mean(axis = 0)\n",
    "b = data31['秋季均值'].mean(axis = 0)\n",
    "c = data31['冬季均值'].mean(axis = 0)\n",
    "d = data31['夏季标准差'].mean(axis = 0)\n",
    "e = data31['秋季标准差'].mean(axis = 0)\n",
    "f = data31['冬季标准差'].mean(axis = 0)\n",
    "num1 = data31.apply(lambda x:  math.sqrt((x['夏季均值']- a)**2 + (x['秋季均值'] - b)**2 + (x['冬季均值'] - c)**2 \n",
    "                                         + (x['夏季标准差'] - d)**2 + (x['秋季标准差'] - e)**2 + (x['冬季标准差'] - f)**2),axis = 1)\n",
    "\n",
    "a = data32['夏季均值'].mean(axis = 0)\n",
    "b = data32['秋季均值'].mean(axis = 0)\n",
    "c = data32['冬季均值'].mean(axis = 0)\n",
    "d = data32['夏季标准差'].mean(axis = 0)\n",
    "e = data32['秋季标准差'].mean(axis = 0)\n",
    "f = data32['冬季标准差'].mean(axis = 0)\n",
    "num2 = data32.apply(lambda x:  math.sqrt((x['夏季均值']- a)**2 + (x['秋季均值'] - b)**2 + (x['冬季均值'] - c)**2 \n",
    "                                         + (x['夏季标准差'] - d)**2 + (x['秋季标准差'] - e)**2 + (x['冬季标准差'] - f)**2),axis = 1)\n",
    "\n",
    "a = data33['夏季均值'].mean(axis = 0)\n",
    "b = data33['秋季均值'].mean(axis = 0)\n",
    "c = data33['冬季均值'].mean(axis = 0)\n",
    "d = data33['夏季标准差'].mean(axis = 0)\n",
    "e = data33['秋季标准差'].mean(axis = 0)\n",
    "f = data33['冬季标准差'].mean(axis = 0)\n",
    "num3 = data33.apply(lambda x:  math.sqrt((x['夏季均值']- a)**2 + (x['秋季均值'] - b)**2 + (x['冬季均值'] - c)**2 \n",
    "                                         + (x['夏季标准差'] - d)**2 + (x['秋季标准差'] - e)**2 + (x['冬季标准差'] - f)**2),axis = 1)\n",
    "\n",
    "sumdata = num0.sum() + num1.sum() +  num2.sum() +  num3.sum()\n",
    "sumdata"
   ]
  },
  {
   "cell_type": "markdown",
   "metadata": {},
   "source": [
    "两阶段聚类，欧式距离"
   ]
  },
  {
   "cell_type": "code",
   "execution_count": 19,
   "metadata": {
    "collapsed": false
   },
   "outputs": [
    {
     "data": {
      "text/plain": [
       "398.91521393446504"
      ]
     },
     "execution_count": 19,
     "metadata": {},
     "output_type": "execute_result"
    }
   ],
   "source": [
    "a = data40['夏季均值'].mean(axis = 0)\n",
    "b = data40['秋季均值'].mean(axis = 0)\n",
    "c = data40['冬季均值'].mean(axis = 0)\n",
    "d = data40['夏季标准差'].mean(axis = 0)\n",
    "e = data40['秋季标准差'].mean(axis = 0)\n",
    "f = data40['冬季标准差'].mean(axis = 0)\n",
    "num0 = data40.apply(lambda x:  math.sqrt((x['夏季均值']- a)**2 + (x['秋季均值'] - b)**2 + (x['冬季均值'] - c)**2 \n",
    "                                         + (x['夏季标准差'] - d)**2 + (x['秋季标准差'] - e)**2 + (x['冬季标准差'] - f)**2),axis = 1)\n",
    "\n",
    "a = data41['夏季均值'].mean(axis = 0)\n",
    "b = data41['秋季均值'].mean(axis = 0)\n",
    "c = data41['冬季均值'].mean(axis = 0)\n",
    "d = data41['夏季标准差'].mean(axis = 0)\n",
    "e = data41['秋季标准差'].mean(axis = 0)\n",
    "f = data41['冬季标准差'].mean(axis = 0)\n",
    "num1 = data41.apply(lambda x:  math.sqrt((x['夏季均值']- a)**2 + (x['秋季均值'] - b)**2 + (x['冬季均值'] - c)**2 \n",
    "                                         + (x['夏季标准差'] - d)**2 + (x['秋季标准差'] - e)**2 + (x['冬季标准差'] - f)**2),axis = 1)\n",
    "\n",
    "a = data42['夏季均值'].mean(axis = 0)\n",
    "b = data42['秋季均值'].mean(axis = 0)\n",
    "c = data42['冬季均值'].mean(axis = 0)\n",
    "d = data42['夏季标准差'].mean(axis = 0)\n",
    "e = data42['秋季标准差'].mean(axis = 0)\n",
    "f = data42['冬季标准差'].mean(axis = 0)\n",
    "num2 = data42.apply(lambda x:  math.sqrt((x['夏季均值']- a)**2 + (x['秋季均值'] - b)**2 + (x['冬季均值'] - c)**2 \n",
    "                                         + (x['夏季标准差'] - d)**2 + (x['秋季标准差'] - e)**2 + (x['冬季标准差'] - f)**2),axis = 1)\n",
    "\n",
    "a = data43['夏季均值'].mean(axis = 0)\n",
    "b = data43['秋季均值'].mean(axis = 0)\n",
    "c = data43['冬季均值'].mean(axis = 0)\n",
    "d = data43['夏季标准差'].mean(axis = 0)\n",
    "e = data43['秋季标准差'].mean(axis = 0)\n",
    "f = data43['冬季标准差'].mean(axis = 0)\n",
    "num3 = data43.apply(lambda x:  math.sqrt((x['夏季均值']- a)**2 + (x['秋季均值'] - b)**2 + (x['冬季均值'] - c)**2 \n",
    "                                         + (x['夏季标准差'] - d)**2 + (x['秋季标准差'] - e)**2 + (x['冬季标准差'] - f)**2),axis = 1)\n",
    "\n",
    "sumdata = num0.sum() + num1.sum() +  num2.sum() +  num3.sum()\n",
    "sumdata"
   ]
  },
  {
   "cell_type": "code",
   "execution_count": null,
   "metadata": {
    "collapsed": true
   },
   "outputs": [],
   "source": []
  }
 ],
 "metadata": {
  "kernelspec": {
   "display_name": "Python 3",
   "language": "python",
   "name": "python3"
  },
  "language_info": {
   "codemirror_mode": {
    "name": "ipython",
    "version": 3
   },
   "file_extension": ".py",
   "mimetype": "text/x-python",
   "name": "python",
   "nbconvert_exporter": "python",
   "pygments_lexer": "ipython3",
   "version": "3.5.6"
  },
  "toc": {
   "base_numbering": 1,
   "nav_menu": {},
   "number_sections": true,
   "sideBar": true,
   "skip_h1_title": false,
   "title_cell": "Table of Contents",
   "title_sidebar": "Contents",
   "toc_cell": false,
   "toc_position": {},
   "toc_section_display": true,
   "toc_window_display": false
  }
 },
 "nbformat": 4,
 "nbformat_minor": 1
}
