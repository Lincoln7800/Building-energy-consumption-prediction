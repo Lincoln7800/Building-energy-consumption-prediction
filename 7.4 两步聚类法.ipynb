{
 "cells": [
  {
   "cell_type": "code",
   "execution_count": 1,
   "metadata": {
    "collapsed": true
   },
   "outputs": [],
   "source": [
    "import pandas as pd\n",
    "import matplotlib.pyplot as plt\n",
    "from sklearn.cluster import KMeans\n",
    "from sklearn import preprocessing\n",
    "from sklearn import metrics"
   ]
  },
  {
   "cell_type": "code",
   "execution_count": 2,
   "metadata": {
    "collapsed": true
   },
   "outputs": [],
   "source": [
    "data = pd.read_csv('./特征聚类1.csv',encoding='gbk')"
   ]
  },
  {
   "cell_type": "code",
   "execution_count": 3,
   "metadata": {
    "collapsed": false
   },
   "outputs": [
    {
     "data": {
      "text/html": [
       "<div>\n",
       "<style scoped>\n",
       "    .dataframe tbody tr th:only-of-type {\n",
       "        vertical-align: middle;\n",
       "    }\n",
       "\n",
       "    .dataframe tbody tr th {\n",
       "        vertical-align: top;\n",
       "    }\n",
       "\n",
       "    .dataframe thead th {\n",
       "        text-align: right;\n",
       "    }\n",
       "</style>\n",
       "<table border=\"1\" class=\"dataframe\">\n",
       "  <thead>\n",
       "    <tr style=\"text-align: right;\">\n",
       "      <th></th>\n",
       "      <th>room</th>\n",
       "      <th>mean</th>\n",
       "      <th>total</th>\n",
       "      <th>median</th>\n",
       "      <th>Upper quantile</th>\n",
       "      <th>Lower quantile</th>\n",
       "      <th>extremum</th>\n",
       "      <th>Standard deviation</th>\n",
       "    </tr>\n",
       "  </thead>\n",
       "  <tbody>\n",
       "    <tr>\n",
       "      <th>0</th>\n",
       "      <td>15_  202</td>\n",
       "      <td>4.168373</td>\n",
       "      <td>691.95</td>\n",
       "      <td>4.80</td>\n",
       "      <td>1.4750</td>\n",
       "      <td>5.8000</td>\n",
       "      <td>10.65</td>\n",
       "      <td>2.622470</td>\n",
       "    </tr>\n",
       "    <tr>\n",
       "      <th>1</th>\n",
       "      <td>15_  204</td>\n",
       "      <td>4.509940</td>\n",
       "      <td>748.65</td>\n",
       "      <td>3.55</td>\n",
       "      <td>0.5500</td>\n",
       "      <td>6.9000</td>\n",
       "      <td>19.50</td>\n",
       "      <td>4.289790</td>\n",
       "    </tr>\n",
       "    <tr>\n",
       "      <th>2</th>\n",
       "      <td>15_  207</td>\n",
       "      <td>3.946084</td>\n",
       "      <td>655.05</td>\n",
       "      <td>3.80</td>\n",
       "      <td>2.2625</td>\n",
       "      <td>5.3375</td>\n",
       "      <td>12.70</td>\n",
       "      <td>2.695643</td>\n",
       "    </tr>\n",
       "    <tr>\n",
       "      <th>3</th>\n",
       "      <td>15_  211</td>\n",
       "      <td>4.627108</td>\n",
       "      <td>768.10</td>\n",
       "      <td>3.55</td>\n",
       "      <td>3.3625</td>\n",
       "      <td>5.1000</td>\n",
       "      <td>17.55</td>\n",
       "      <td>2.357063</td>\n",
       "    </tr>\n",
       "    <tr>\n",
       "      <th>4</th>\n",
       "      <td>15_  213</td>\n",
       "      <td>1.721446</td>\n",
       "      <td>285.76</td>\n",
       "      <td>1.70</td>\n",
       "      <td>0.0000</td>\n",
       "      <td>2.7250</td>\n",
       "      <td>5.30</td>\n",
       "      <td>1.360124</td>\n",
       "    </tr>\n",
       "  </tbody>\n",
       "</table>\n",
       "</div>"
      ],
      "text/plain": [
       "       room      mean   total  median  Upper quantile  Lower quantile  \\\n",
       "0  15_  202  4.168373  691.95    4.80          1.4750          5.8000   \n",
       "1  15_  204  4.509940  748.65    3.55          0.5500          6.9000   \n",
       "2  15_  207  3.946084  655.05    3.80          2.2625          5.3375   \n",
       "3  15_  211  4.627108  768.10    3.55          3.3625          5.1000   \n",
       "4  15_  213  1.721446  285.76    1.70          0.0000          2.7250   \n",
       "\n",
       "   extremum  Standard deviation  \n",
       "0     10.65            2.622470  \n",
       "1     19.50            4.289790  \n",
       "2     12.70            2.695643  \n",
       "3     17.55            2.357063  \n",
       "4      5.30            1.360124  "
      ]
     },
     "execution_count": 3,
     "metadata": {},
     "output_type": "execute_result"
    }
   ],
   "source": [
    "data.head()"
   ]
  },
  {
   "cell_type": "code",
   "execution_count": 4,
   "metadata": {
    "collapsed": true
   },
   "outputs": [],
   "source": [
    "data_notitle = data.drop('room',axis = 1)"
   ]
  },
  {
   "cell_type": "code",
   "execution_count": 6,
   "metadata": {
    "collapsed": false
   },
   "outputs": [],
   "source": [
    "data_scaled = preprocessing.scale(data_notitle)\n",
    "X = data_scaled\n",
    "scores = []\n",
    "for i in range(2,18):\n",
    "    km = KMeans(n_clusters=i,init='k-means++',n_init=10,max_iter=300,random_state=0)\n",
    "    km.fit(X)\n",
    "    scores.append(metrics.silhouette_score(X,km.labels_ ,metric='euclidean'))"
   ]
  },
  {
   "cell_type": "code",
   "execution_count": 8,
   "metadata": {
    "collapsed": false
   },
   "outputs": [
    {
     "data": {
      "image/png": "[encoded data removed]",
      "text/plain": [
       "<Figure size 900x600 with 1 Axes>"
      ]
     },
     "metadata": {},
     "output_type": "display_data"
    }
   ],
   "source": [
    "%matplotlib inline\n",
    "plt.figure(dpi=150)\n",
    "plt.plot(range(2,18),scores,marker = 'o')\n",
    "plt.xlabel('Number of clusters')\n",
    "plt.ylabel('silhouette_score')\n",
    "plt.show\n",
    "plt.savefig('图4.svg',format='svg')"
   ]
  },
  {
   "cell_type": "code",
   "execution_count": 9,
   "metadata": {
    "collapsed": true
   },
   "outputs": [],
   "source": [
    "kmodel = KMeans(n_clusters = 2, n_jobs = 4, max_iter =1000 ) #n_jobs是并行数，一般等于CPU数较好\n",
    "kmodel.fit(data_scaled) #训练模型\n",
    "data_scaled = pd.DataFrame(data_scaled,columns = ['mean','total','median','Upper quantile','Lower quantile','extremum','Standard deviation'])"
   ]
  },
  {
   "cell_type": "code",
   "execution_count": 10,
   "metadata": {
    "collapsed": false
   },
   "outputs": [
    {
     "data": {
      "text/html": [
       "<div>\n",
       "<style scoped>\n",
       "    .dataframe tbody tr th:only-of-type {\n",
       "        vertical-align: middle;\n",
       "    }\n",
       "\n",
       "    .dataframe tbody tr th {\n",
       "        vertical-align: top;\n",
       "    }\n",
       "\n",
       "    .dataframe thead th {\n",
       "        text-align: right;\n",
       "    }\n",
       "</style>\n",
       "<table border=\"1\" class=\"dataframe\">\n",
       "  <thead>\n",
       "    <tr style=\"text-align: right;\">\n",
       "      <th></th>\n",
       "      <th>mean</th>\n",
       "      <th>total</th>\n",
       "      <th>median</th>\n",
       "      <th>Upper quantile</th>\n",
       "      <th>Lower quantile</th>\n",
       "      <th>extremum</th>\n",
       "      <th>Standard deviation</th>\n",
       "      <th>聚类类别</th>\n",
       "    </tr>\n",
       "  </thead>\n",
       "  <tbody>\n",
       "    <tr>\n",
       "      <th>0</th>\n",
       "      <td>-0.734150</td>\n",
       "      <td>-0.734150</td>\n",
       "      <td>-0.183575</td>\n",
       "      <td>-1.094595</td>\n",
       "      <td>-0.669006</td>\n",
       "      <td>-1.244307</td>\n",
       "      <td>-0.750746</td>\n",
       "      <td>1</td>\n",
       "    </tr>\n",
       "    <tr>\n",
       "      <th>1</th>\n",
       "      <td>-0.583780</td>\n",
       "      <td>-0.583780</td>\n",
       "      <td>-0.789455</td>\n",
       "      <td>-1.659590</td>\n",
       "      <td>-0.326950</td>\n",
       "      <td>0.032722</td>\n",
       "      <td>0.349533</td>\n",
       "      <td>1</td>\n",
       "    </tr>\n",
       "    <tr>\n",
       "      <th>2</th>\n",
       "      <td>-0.832010</td>\n",
       "      <td>-0.832010</td>\n",
       "      <td>-0.668279</td>\n",
       "      <td>-0.613586</td>\n",
       "      <td>-0.812825</td>\n",
       "      <td>-0.948498</td>\n",
       "      <td>-0.702459</td>\n",
       "      <td>1</td>\n",
       "    </tr>\n",
       "    <tr>\n",
       "      <th>3</th>\n",
       "      <td>-0.532198</td>\n",
       "      <td>-0.532198</td>\n",
       "      <td>-0.789455</td>\n",
       "      <td>0.058299</td>\n",
       "      <td>-0.886678</td>\n",
       "      <td>-0.248658</td>\n",
       "      <td>-0.925890</td>\n",
       "      <td>1</td>\n",
       "    </tr>\n",
       "    <tr>\n",
       "      <th>4</th>\n",
       "      <td>-1.811379</td>\n",
       "      <td>-1.811379</td>\n",
       "      <td>-1.686157</td>\n",
       "      <td>-1.995532</td>\n",
       "      <td>-1.625208</td>\n",
       "      <td>-2.016297</td>\n",
       "      <td>-1.583779</td>\n",
       "      <td>1</td>\n",
       "    </tr>\n",
       "  </tbody>\n",
       "</table>\n",
       "</div>"
      ],
      "text/plain": [
       "       mean     total    median  Upper quantile  Lower quantile  extremum  \\\n",
       "0 -0.734150 -0.734150 -0.183575       -1.094595       -0.669006 -1.244307   \n",
       "1 -0.583780 -0.583780 -0.789455       -1.659590       -0.326950  0.032722   \n",
       "2 -0.832010 -0.832010 -0.668279       -0.613586       -0.812825 -0.948498   \n",
       "3 -0.532198 -0.532198 -0.789455        0.058299       -0.886678 -0.248658   \n",
       "4 -1.811379 -1.811379 -1.686157       -1.995532       -1.625208 -2.016297   \n",
       "\n",
       "   Standard deviation  聚类类别  \n",
       "0           -0.750746     1  \n",
       "1            0.349533     1  \n",
       "2           -0.702459     1  \n",
       "3           -0.925890     1  \n",
       "4           -1.583779     1  "
      ]
     },
     "execution_count": 10,
     "metadata": {},
     "output_type": "execute_result"
    }
   ],
   "source": [
    "r1 = pd.Series(kmodel.labels_).value_counts()  #统计各个类别的数目\n",
    "r2 = pd.DataFrame(kmodel.cluster_centers_)     #找出聚类中心\n",
    "r = pd.concat([r2, r1], axis = 1)\n",
    "r.columns = list(data_scaled.columns) + [u'类别数目']\n",
    "r = pd.concat([data_scaled, pd.Series(kmodel.labels_, index = data_scaled.index)], axis = 1)  #详细输出每个样本对应的类别\n",
    "r.columns = list(data_scaled.columns) + [u'聚类类别']\n",
    "r.head()"
   ]
  },
  {
   "cell_type": "code",
   "execution_count": 12,
   "metadata": {
    "collapsed": false
   },
   "outputs": [],
   "source": [
    "julei2 = pd.DataFrame()\n",
    "julei2['room'] = data['room']\n",
    "julei2['cluster'] = r['聚类类别']\n",
    "julei2.to_excel('一阶聚类.xlsx',encoding='gbk')"
   ]
  },
  {
   "cell_type": "code",
   "execution_count": 22,
   "metadata": {
    "collapsed": true
   },
   "outputs": [],
   "source": [
    "data_sum = pd.read_excel('./夏季2.xlsx',encoding = 'utf-8')\n",
    "data_aut = pd.read_excel('./秋季2.xlsx',encoding='utf-8')\n",
    "data_win = pd.read_excel('./冬季2.xlsx',encoding='utf-8')"
   ]
  },
  {
   "cell_type": "code",
   "execution_count": 23,
   "metadata": {
    "collapsed": true
   },
   "outputs": [],
   "source": [
    "new_data = pd.DataFrame(columns=['start'])\n",
    "\n",
    "new_data['S_M'] = data_sum.mean(axis = 1)\n",
    "new_data['S_S'] = data_sum.std(axis = 1)\n",
    "\n",
    "new_data['A_M'] = data_aut.mean(axis = 1)\n",
    "new_data['A_S'] = data_aut.std(axis = 1)\n",
    "\n",
    "new_data['W_M'] = data_win.mean(axis = 1)\n",
    "new_data['W_S'] = data_win.std(axis = 1)\n",
    "\n",
    "new_data = new_data.drop('start',axis = 1)"
   ]
  },
  {
   "cell_type": "code",
   "execution_count": 24,
   "metadata": {
    "collapsed": false
   },
   "outputs": [
    {
     "data": {
      "text/plain": [
       "array([[-7.69192764e-01,  8.57395147e-02, -2.51406727e-02,\n",
       "         9.21420840e-01,  1.19967944e-01, -7.55432416e-01],\n",
       "       [-1.19028011e+00, -7.54700737e-01, -1.32988105e+00,\n",
       "         6.95977019e-01,  1.30502572e+00,  1.10460608e+00],\n",
       "       [ 1.03204026e+00,  5.39963576e-01, -6.20893902e-01,\n",
       "         1.15612631e-01, -3.65036958e-01, -2.50472655e-01],\n",
       "       [ 7.78622241e-01, -5.34339554e-01, -4.78748957e-02,\n",
       "        -1.27664131e+00,  2.44204935e-01, -2.86952969e-01],\n",
       "       [-1.36126709e+00, -1.46022329e+00, -1.53361466e+00,\n",
       "        -1.30172472e+00, -1.91530488e+00, -1.41235610e+00],\n",
       "       [-1.30001802e+00, -1.32362534e+00, -1.79156066e+00,\n",
       "        -3.88272538e-01, -1.35958830e+00, -8.13073696e-01],\n",
       "       [-1.31277825e+00, -1.29770435e+00, -1.84227546e+00,\n",
       "        -1.34796283e+00, -1.53545720e+00, -4.21651343e-01],\n",
       "       [-1.90389065e-01, -1.07656521e+00, -1.36278290e-02,\n",
       "         2.78791935e-01,  3.88322758e-01,  3.58289377e-01],\n",
       "       [-2.30092989e+00, -2.17758910e+00,  5.87663224e-01,\n",
       "         1.82231175e+00,  1.13534683e+00, -5.46944933e-01],\n",
       "       [-7.94202800e-01, -4.00058065e-01,  2.00598504e-01,\n",
       "        -3.35159218e-01,  3.16300258e-01,  9.08532118e-01],\n",
       "       [-2.25607280e-01, -1.07338355e+00, -3.08006871e-01,\n",
       "        -9.35476546e-01, -1.09571914e-01, -1.20947788e+00],\n",
       "       [-7.18662282e-01, -6.07854128e-01,  2.21729672e-01,\n",
       "         3.77850287e-01, -4.85163620e-03,  6.09255518e-01],\n",
       "       [-1.10606264e+00, -9.36857255e-01, -2.71428089e-01,\n",
       "        -4.23232118e-01, -5.03911485e-01, -1.25505370e+00],\n",
       "       [-4.94847977e-01, -1.49941989e+00, -3.08298335e-01,\n",
       "        -1.75288461e+00,  4.62966906e-01,  4.29512715e-01],\n",
       "       [ 3.08731950e-02, -3.53609933e-01, -5.91018801e-01,\n",
       "        -2.42648985e-01,  1.03801114e-01,  3.07661245e-01],\n",
       "       [-6.30106337e-01, -5.39032465e-01, -1.31822247e+00,\n",
       "         1.66151576e-01, -1.24136626e-01,  4.10236985e-01],\n",
       "       [-5.38546832e-02, -8.45525346e-02,  1.78252152e+00,\n",
       "        -1.29540912e+00, -5.43454678e-01, -2.59145365e-02],\n",
       "       [-9.98366362e-01, -2.65019380e-01, -1.11171995e+00,\n",
       "        -1.26220370e+00, -1.26826756e+00, -2.65781941e-01],\n",
       "       [-1.23525499e-01, -1.81250850e-01, -7.71435264e-01,\n",
       "        -5.75583224e-01, -1.76834694e+00, -1.61123760e+00],\n",
       "       [-1.41154237e+00, -1.39899946e+00, -2.25207441e+00,\n",
       "        -1.71408317e+00, -1.23848272e+00, -5.38772403e-01],\n",
       "       [-6.97735517e-01, -1.50884639e+00, -3.17479464e-01,\n",
       "        -4.69535859e-01, -3.63944605e-01, -5.99864119e-01],\n",
       "       [-1.55828493e+00, -1.57568901e+00, -2.00972176e+00,\n",
       "        -1.38106191e+00, -2.29063750e+00, -1.71836333e+00],\n",
       "       [-1.59273753e+00, -1.63711751e+00, -1.67992979e+00,\n",
       "        -1.41344069e+00, -1.54062767e+00, -1.18364279e+00],\n",
       "       [-1.24463866e+00, -4.04221393e-01, -1.02486356e+00,\n",
       "         5.42541326e-01, -7.54133234e-01, -5.41899115e-02],\n",
       "       [ 1.23926628e+00,  6.82950126e-01, -1.09373884e-01,\n",
       "        -7.50797879e-01, -1.49081636e+00, -1.56579593e+00],\n",
       "       [-3.02168615e-01,  5.05066202e-01, -1.36019335e+00,\n",
       "        -5.34048954e-01, -2.19123334e+00, -1.01170310e+00],\n",
       "       [-1.46972899e+00, -9.79590295e-01, -1.56713307e+00,\n",
       "        -1.24195696e-01, -1.48892294e+00, -7.69171387e-01],\n",
       "       [ 1.97266498e-01, -4.40948241e-01, -9.81525044e-02,\n",
       "        -6.28079993e-01,  2.04079154e-01,  3.73179528e-01],\n",
       "       [-8.49582166e-01, -8.35945370e-01, -6.31823817e-01,\n",
       "         4.05348186e-01, -5.49790327e-01, -3.21890085e-01],\n",
       "       [-1.49780148e+00, -1.12306045e+00,  5.48169798e-01,\n",
       "         7.48800281e-01, -3.37364006e-01,  1.56153842e-01],\n",
       "       [ 2.15896423e-01,  8.00451530e-01,  1.09078683e-01,\n",
       "        -1.06489207e+00,  6.24271089e-01, -4.20172677e-01],\n",
       "       [-1.59044069e+00, -1.28857409e+00, -1.87025604e+00,\n",
       "        -4.88026357e-01, -1.41937644e+00, -1.06245586e+00],\n",
       "       [-7.30401687e-01, -6.45126772e-01, -8.75633786e-01,\n",
       "        -1.80462391e+00, -1.78109106e+00, -1.35883285e+00],\n",
       "       [ 1.25298842e-01, -7.71735365e-01, -3.65862554e-01,\n",
       "        -1.11526454e+00, -2.58496092e-01, -1.37183870e-01],\n",
       "       [ 2.26104601e-01,  1.99211172e-01, -4.62483002e-01,\n",
       "         8.07977306e-01, -7.30902518e-01, -7.13110697e-02],\n",
       "       [-5.59925112e-01, -1.07388382e-01, -2.50734117e-01,\n",
       "        -7.11731821e-01, -5.46149149e-01, -7.89515554e-01],\n",
       "       [ 6.91852727e-01, -7.06507065e-01,  9.87316964e-02,\n",
       "        -2.71571866e-01, -1.74967470e-01,  1.67629630e-01],\n",
       "       [-6.68387005e-01, -1.64228541e+00, -3.46625904e-01,\n",
       "        -1.56086189e+00, -3.91034969e-01, -1.23292929e+00],\n",
       "       [-1.16348364e+00, -9.91881147e-01, -1.43670275e+00,\n",
       "        -7.80801763e-01, -2.10457331e+00, -1.58856916e+00],\n",
       "       [-7.99051684e-01, -8.98960466e-01, -6.15501811e-01,\n",
       "        -1.13197002e+00, -7.59886295e-01, -1.63454828e+00],\n",
       "       [ 6.75264438e-01,  7.72210388e-01,  3.74748481e-01,\n",
       "        -7.70360104e-01, -3.85354731e-01, -4.21618379e-01],\n",
       "       [-1.09126078e+00, -1.08596805e+00,  4.11910192e-01,\n",
       "         6.45473630e-01,  1.79367180e+00, -4.59257548e-01],\n",
       "       [ 1.15090664e-01, -1.32804768e+00,  7.92562696e-01,\n",
       "         1.45852600e-01,  4.46217488e-01, -5.11566645e-01],\n",
       "       [-1.65634233e-01, -2.01330522e-01, -9.17021730e-01,\n",
       "        -1.24664350e+00,  2.29931518e-01, -7.07238286e-01],\n",
       "       [-2.28159324e-01, -9.03778684e-01, -3.67465608e-01,\n",
       "        -7.40415717e-01, -5.34934321e-01, -1.48552138e+00],\n",
       "       [-1.05119368e+00, -6.90271521e-01, -2.14009603e-01,\n",
       "        -3.42493489e-01, -5.93630110e-01, -1.30720212e+00],\n",
       "       [ 2.40651255e-01, -6.87160736e-01, -1.33979084e+00,\n",
       "        -1.05160742e+00, -1.91559617e+00, -1.25585355e+00],\n",
       "       [-6.87527339e-01, -1.06113663e+00, -4.41789030e-01,\n",
       "        -3.69048828e-01, -6.70313317e-01, -7.52128893e-01],\n",
       "       [-6.99325637e-02, -2.76020474e-01,  1.18697008e-01,\n",
       "        -5.30071666e-01, -1.65864525e-01, -1.24095664e+00],\n",
       "       [-1.14051524e+00, -1.36513816e+00, -4.04918783e-01,\n",
       "        -1.59833524e+00, -8.12756198e-01, -1.39680207e+00],\n",
       "       [-5.12201880e-01, -4.03920190e-01,  1.14173704e+00,\n",
       "         2.35512981e-01,  7.89248660e-03, -3.44450688e-01],\n",
       "       [ 3.92949420e-02, -1.08743305e-01, -6.77729460e-01,\n",
       "        -1.44625221e+00, -6.26692005e-01, -1.06626501e+00],\n",
       "       [-6.48736262e-01, -8.90724249e-01,  6.72535415e-02,\n",
       "         3.60197675e-01, -6.24798593e-01, -1.34928529e-01],\n",
       "       [-1.16807732e+00,  8.93817912e-02, -1.66477364e+00,\n",
       "        -1.71278921e+00, -1.31210734e+00, -1.33922648e+00],\n",
       "       [-7.87822689e-01, -8.42130325e-01, -1.13897187e+00,\n",
       "        -2.51349184e-01, -1.03392135e+00, -6.78517798e-01],\n",
       "       [ 2.20234899e-01,  5.21015019e-01, -1.04512033e+00,\n",
       "        -1.86081577e-01, -7.23547339e-01, -4.08203777e-01],\n",
       "       [ 7.81939899e-01,  4.89194538e-01, -5.92476123e-01,\n",
       "        -4.77762970e-01, -1.09451055e+00, -1.10934559e+00],\n",
       "       [-9.79736437e-01, -2.70103145e-01,  1.37698244e-02,\n",
       "         2.53227238e-01, -2.41746673e-01, -1.18536128e-01],\n",
       "       [-9.25633093e-01, -4.11358257e-01, -1.56421843e+00,\n",
       "        -4.84343775e-01, -2.14994239e+00, -4.47435165e-01],\n",
       "       [-6.48736262e-01, -8.78707902e-01,  3.35546520e-01,\n",
       "         4.23140204e-01,  2.55055645e-01,  4.16229655e-01],\n",
       "       [ 5.71592537e-02,  1.68724895e+00, -2.76528716e-01,\n",
       "         4.16161219e-01, -1.22828743e+00, -2.82463033e-01],\n",
       "       [-1.00066320e+00, -1.49317484e+00, -1.07187901e-01,\n",
       "        -9.17700654e-01, -4.47837345e-01, -9.43231331e-01],\n",
       "       [-7.85270644e-01, -1.35799708e+00, -8.51587973e-01,\n",
       "         3.97992668e-01, -4.15285214e-01, -1.42685160e+00],\n",
       "       [ 4.95855707e-01,  5.33802956e-01, -1.53944395e+00,\n",
       "        -6.08780899e-01, -2.94907871e-01,  9.73133940e-04],\n",
       "       [ 2.88315594e-02,  3.28904928e+00, -2.87333077e+00,\n",
       "        -1.88572001e+00, -1.64163395e+00, -8.52428828e-01],\n",
       "       [ 1.16908505e+00,  1.80198308e+00, -1.45302476e+00,\n",
       "        -1.85958134e-01, -1.28763863e+00, -5.48401929e-01],\n",
       "       [-6.33934404e-01, -1.78397833e-01, -8.74176464e-01,\n",
       "        -1.35918875e-01, -8.99561881e-01, -4.25295036e-01],\n",
       "       [ 3.18488613e-01,  4.17767486e-01, -4.42371958e-01,\n",
       "        -6.51364859e-01, -7.97827369e-01, -6.14567795e-01],\n",
       "       [-4.02974374e-01, -6.82999630e-01, -4.51553087e-01,\n",
       "        -5.11722943e-01, -6.82110734e-01, -6.55942019e-01],\n",
       "       [-1.25790929e+00, -7.07485689e-01,  5.25581307e-01,\n",
       "         2.47000944e-01,  7.89653391e-01,  1.06382566e-01],\n",
       "       [-6.16070092e-01, -1.45979171e-01,  1.50029430e-01,\n",
       "        -6.43219057e-01, -7.92729720e-01, -1.57867905e+00],\n",
       "       [-3.87662107e-01,  1.62241070e-02, -7.75807230e-01,\n",
       "        -7.51978428e-01, -4.91895598e-01, -6.58972545e-01],\n",
       "       [-1.33957471e+00, -6.42833934e-01, -9.64093231e-01,\n",
       "         7.10280350e-01,  1.66601210e+00, -1.95652811e-01],\n",
       "       [-8.51623802e-01, -1.70186113e-01,  2.45046824e-01,\n",
       "        -8.58102298e-02,  3.05886490e-01, -2.77198592e-01],\n",
       "       [-1.12903104e+00, -4.76826875e-01,  2.07156452e-01,\n",
       "        -6.71317000e-01, -7.60730768e-02, -1.11414974e+00],\n",
       "       [ 6.28562023e-01, -2.91656777e-01,  3.71250909e-01,\n",
       "         4.09889511e-01,  2.44496229e-01, -1.25565784e+00],\n",
       "       [-1.30843977e+00, -7.99817517e-01, -5.52836965e-01,\n",
       "         4.93499184e-01, -8.06857490e-01, -8.18171789e-01],\n",
       "       [-1.21503494e+00, -9.18043523e-01, -6.02385913e-01,\n",
       "        -5.09209882e-01, -9.09757179e-01, -5.74961909e-01],\n",
       "       [-1.10606264e+00, -4.10870773e-01, -1.20644588e+00,\n",
       "        -4.45933723e-01, -1.91850912e+00, -1.04502301e+00],\n",
       "       [ 3.28186382e-01, -2.10060389e-01,  2.32424174e-02,\n",
       "         1.64588751e-01,  7.12489828e-02, -1.48528054e-01],\n",
       "       [-5.45888868e-01,  4.02687905e-01,  9.49079078e-01,\n",
       "        -1.22268238e+00, -3.17992939e-01, -8.26014987e-01],\n",
       "       [-9.79736437e-01, -9.94994661e-01, -1.55984646e+00,\n",
       "        -1.04257428e+00, -1.69428538e+00, -1.04897140e+00],\n",
       "       [ 1.93693636e-01,  7.53401449e-03,  1.59846176e+00,\n",
       "         3.54069430e+00, -8.82448344e-01,  2.26203138e+00],\n",
       "       [-2.39643525e-01, -8.60937090e-01,  5.44963690e-01,\n",
       "         1.47933537e+00,  9.61808284e-01,  1.41361836e+00],\n",
       "       [-2.49341294e-01, -9.27616761e-02,  1.12526931e+00,\n",
       "         4.30386204e-02,  1.19134814e+00,  6.38026530e-01],\n",
       "       [ 1.07516981e+00,  1.44227122e+00, -1.52122743e+00,\n",
       "        -9.12494704e-02, -5.28671495e-01,  1.58968647e+00],\n",
       "       [ 2.81311214e+00,  1.29054512e+00,  3.84221074e-01,\n",
       "        -7.76089295e-01,  2.48865643e-01, -2.52247305e-01],\n",
       "       [ 1.20302725e+00,  3.39814632e-02,  1.56363176e+00,\n",
       "         2.61307479e-01, -6.93733094e-02, -5.96000132e-02],\n",
       "       [ 7.63309974e-01,  2.50004371e-01, -5.47243091e-02,\n",
       "         1.85564986e+00,  9.40179687e-01,  2.10712716e+00],\n",
       "       [-8.39688086e-02,  1.95192725e+00, -2.97076956e-01,\n",
       "        -7.56815513e-01,  5.75581538e-02,  1.75090480e-01],\n",
       "       [-2.93746869e-01,  2.55269310e-01,  2.94887236e-01,\n",
       "         3.64419120e-02,  1.08170527e-01,  9.54986312e-01],\n",
       "       [ 6.53257961e-02, -3.33203332e-01,  1.36645610e+00,\n",
       "         9.52555702e-01,  1.28769371e+00,  3.98619658e-01],\n",
       "       [ 1.55648541e+00,  1.64829064e+00,  8.33804908e-01,\n",
       "         2.18976274e-02,  1.26111311e+00,  1.08735638e+00],\n",
       "       [ 6.86238229e-01, -4.55743763e-01,  6.90987353e-01,\n",
       "         2.79811322e-02, -3.80591791e-02,  9.46760717e-01],\n",
       "       [ 1.65831199e+00,  1.13257302e+00,  2.80515799e-02,\n",
       "        -6.25938031e-01,  8.40921177e-01, -1.76572860e-01],\n",
       "       [-3.57803186e-01, -1.13269441e+00,  8.18940224e-01,\n",
       "         3.64903000e-01,  5.49991059e-01,  7.81827198e-01],\n",
       "       [-4.50187198e-01, -3.72563583e-01,  7.45401514e-02,\n",
       "         1.56504513e+00,  7.40424665e-01,  6.23793582e-01],\n",
       "       [-6.22764301e-02,  9.82370519e-01,  1.37913480e+00,\n",
       "         1.06785528e+00,  1.04337067e+00,  1.36206375e+00],\n",
       "       [ 1.98650491e+00,  5.33836067e-01, -2.76674448e-01,\n",
       "        -4.27295469e-01,  5.27415756e-01,  1.06159226e+00],\n",
       "       [-1.31181632e-01,  1.20557670e+00,  5.60702767e-01,\n",
       "         1.77371882e+00,  1.49414850e+00,  1.44854328e+00],\n",
       "       [ 1.76339733e-01, -5.26061345e-01,  4.01854670e-01,\n",
       "         8.43065622e-01,  1.11400952e+00,  1.59109797e+00],\n",
       "       [ 1.02795699e+00,  7.88405454e-01,  1.41061295e+00,\n",
       "         2.42811890e+00,  1.09383740e+00,  1.51421895e+00],\n",
       "       [ 5.23417788e-01, -5.85616772e-01,  1.34721945e+00,\n",
       "         2.12493796e-01,  1.18875590e-01, -4.99042823e-01],\n",
       "       [ 4.24398461e-01, -3.37847252e-01,  1.99893384e+00,\n",
       "         4.93693157e-01,  1.20868015e+00, -5.00282951e-01],\n",
       "       [ 9.51847171e-02,  2.30474100e+00,  1.33410355e+00,\n",
       "         2.14875443e+00, -2.52160442e-01,  7.25266266e-01],\n",
       "       [-2.15399102e-01,  7.90109099e-01,  9.97024971e-01,\n",
       "        -5.63773143e-01, -2.72812923e-02,  9.84763975e-02],\n",
       "       [-3.44787759e-01,  5.10077418e-01, -2.12843745e-01,\n",
       "         9.85563070e-01,  1.63928585e+00,  1.13380056e+00],\n",
       "       [ 2.08750698e-01, -1.71895712e-02,  8.94429503e-01,\n",
       "        -3.35583275e-01,  8.94082375e-01,  6.31942339e-01],\n",
       "       [ 2.22384506e+00,  8.84724205e-01,  1.29839916e+00,\n",
       "         8.79264467e-01,  9.40907923e-01,  7.67999733e-01],\n",
       "       [ 3.13109688e+00,  1.72301508e+00,  6.90258692e-01,\n",
       "         1.24577717e+00,  3.37127796e-01,  6.21903531e-01],\n",
       "       [ 8.75599933e-01,  1.39393303e+00,  7.88627926e-01,\n",
       "         2.14190712e-01, -3.24984001e-01, -6.01509830e-02],\n",
       "       [ 1.79178392e+00,  3.59615244e-01,  1.54512377e+00,\n",
       "         2.60732389e-01,  7.16611362e-01,  1.24193680e-01],\n",
       "       [ 7.89596032e-01,  6.57427683e-01,  9.94838988e-01,\n",
       "         9.17270595e-01, -2.22594077e-01,  4.84414095e-01],\n",
       "       [ 2.20189747e+00,  8.08334454e-01,  1.95244527e+00,\n",
       "         1.76754483e-01,  8.18928462e-01,  2.44095950e-01],\n",
       "       [ 8.61563688e-01,  8.09847223e-01,  7.44616802e-01,\n",
       "        -3.01631975e-01,  6.58206867e-01,  2.09481626e+00],\n",
       "       [ 1.21119379e+00, -1.03600081e-01,  1.04803124e+00,\n",
       "         3.44546862e-01,  1.30502572e+00,  7.97385929e-01],\n",
       "       [ 1.38218077e+00,  9.80555449e-01,  1.68735840e+00,\n",
       "         4.96254188e-01,  3.48415448e-01, -1.11216923e-01],\n",
       "       [ 2.33664542e+00,  1.62857841e+00,  1.55226465e+00,\n",
       "        -3.10533838e-01,  2.16561392e-02, -1.84563166e-01],\n",
       "       [ 1.36610289e+00,  1.75307303e+00,  9.44269915e-01,\n",
       "        -9.11056969e-02,  2.05171508e-01,  2.01066781e+00],\n",
       "       [ 1.80786180e+00,  1.55779561e+00,  1.48134912e-01,\n",
       "         7.26550056e-01,  5.93685194e-01,  8.46464128e-01],\n",
       "       [ 2.89905714e-01,  9.21612252e-01,  1.96104347e+00,\n",
       "         1.46137415e+00, -6.73590377e-01, -2.61129813e-01],\n",
       "       [-4.20838686e-01,  1.23230199e-01,  4.69182946e-01,\n",
       "         3.24123046e-01,  1.51876286e+00,  2.97177474e-01],\n",
       "       [ 1.23543821e+00, -2.84614576e-01,  7.39370443e-01,\n",
       "        -4.30504943e-01,  3.91963936e-01, -7.21723527e-01],\n",
       "       [ 2.40906459e-01,  2.21300433e-01, -8.60567319e-02,\n",
       "        -7.17563295e-01,  8.40047294e-01,  1.99627718e+00],\n",
       "       [-2.52403747e-01, -2.35699012e-01, -3.18062393e-01,\n",
       "         7.78312979e-01,  1.45737260e+00,  3.27846160e-01],\n",
       "       [ 1.85048094e+00,  1.64633500e+00,  1.07717768e+00,\n",
       "        -1.87669356e-01,  5.62225417e-01,  2.57594909e-01],\n",
       "       [-2.28159324e-01,  5.69381690e-01,  1.01265195e-02,\n",
       "         3.32130596e+00,  7.62271733e-01,  1.77956712e+00],\n",
       "       [ 1.76932593e+00,  8.34542138e-01,  9.56219955e-01,\n",
       "         6.35528611e-01, -3.21706941e-01, -5.78719443e-01],\n",
       "       [ 1.73640455e+00,  1.71008931e+00,  5.42777707e-01,\n",
       "         2.07890548e-01,  1.55291711e+00,  8.48284817e-01],\n",
       "       [ 1.65621146e-01, -3.91151936e-01,  2.67198118e-01,\n",
       "         1.91137317e+00,  3.51037096e-01,  8.28286352e-01],\n",
       "       [ 1.52254322e+00,  3.15255714e-01,  8.04367004e-01,\n",
       "        -7.84858583e-01,  2.06366094e-02,  2.51375608e-01],\n",
       "       [ 1.20302725e+00,  3.28290219e-01,  3.50702668e-01,\n",
       "         1.46625429e-01,  1.25383076e+00, -8.29150219e-01],\n",
       "       [-1.36458475e+00,  3.21246558e-01, -4.92941031e-01,\n",
       "         2.11564758e+00,  5.66114475e-02,  7.97781087e-01],\n",
       "       [ 1.84506275e-01, -8.99912436e-02,  7.20279525e-01,\n",
       "         1.11775990e+00,  1.84813122e-03,  1.15427003e-01],\n",
       "       [ 6.91087114e-01, -3.14064134e-01,  1.55780247e+00,\n",
       "         5.87823904e-01, -1.48022753e-01, -1.75966187e-01],\n",
       "       [ 1.12110662e+00,  1.16098137e+00,  1.40556838e-01,\n",
       "        -9.90076606e-01,  1.46407237e+00, -2.45136615e-01],\n",
       "       [-9.98876771e-01,  2.98907602e-01,  8.48523860e-01,\n",
       "         2.09586217e+00, -1.15808551e+00, -8.64663553e-02],\n",
       "       [ 9.85023750e-02,  1.02436387e+00,  6.36102365e-02,\n",
       "         5.36017865e-01,  3.44410152e-01, -1.78597134e-02],\n",
       "       [ 1.03510272e+00,  1.06777500e+00,  8.15151187e-01,\n",
       "        -2.52348955e-01,  3.51328390e-01, -1.12372103e+00],\n",
       "       [-4.37937384e-01, -1.01509236e+00,  8.24040851e-01,\n",
       "         6.12843866e-01,  1.60134478e+00, -4.93981949e-01],\n",
       "       [ 6.10187302e-01, -2.75884167e-01,  3.99668687e-01,\n",
       "        -2.51895976e-01,  8.63132362e-01,  4.24708678e-01],\n",
       "       [-6.86565414e-02, -1.24612163e+00,  1.59787883e+00,\n",
       "         1.49946762e+00,  1.16920978e+00,  1.39967286e+00],\n",
       "       [-3.46829395e-01, -2.56278321e-01,  1.51874624e+00,\n",
       "        -2.70922605e-01,  6.71242284e-01,  8.96404642e-01],\n",
       "       [ 4.12403852e-01,  7.36024263e-01,  1.93699765e+00,\n",
       "        -4.20448243e-01,  9.09957910e-01,  3.68543331e-02],\n",
       "       [ 1.09890383e+00,  2.60244452e+00,  5.73437519e-02,\n",
       "        -1.22543182e+00,  9.61589814e-01, -4.73581713e-01],\n",
       "       [ 5.63936403e-02,  1.99188898e-01, -7.38152271e-02,\n",
       "         2.26867230e+00,  1.12806447e+00,  9.73473778e-01],\n",
       "       [ 5.73182657e-01,  2.53513008e-01, -1.44058147e-01,\n",
       "        -3.20329334e-01,  1.66720669e-01,  1.58468494e+00],\n",
       "       [-2.90998513e-02,  6.48855843e-01,  2.01764361e-01,\n",
       "        -1.22701486e+00,  1.67853775e+00,  1.62700195e+00],\n",
       "       [ 8.28387109e-01, -5.84085084e-02,  8.13839597e-01,\n",
       "         4.03425101e-01,  4.11116532e-01,  1.65609046e+00],\n",
       "       [ 5.70630612e-01,  2.15637096e+00, -1.48721577e-01,\n",
       "        -2.71835845e-01, -1.50717225e-01, -1.99550465e-01],\n",
       "       [-7.22490349e-01, -3.77319009e-01,  8.75484317e-01,\n",
       "         5.13735000e-01,  1.02705819e+00,  1.24817154e+00],\n",
       "       [ 5.38415958e-02,  2.03392144e+00, -1.01145620e+00,\n",
       "        -3.73212734e-01, -1.02143911e-01,  6.53877078e-01],\n",
       "       [ 9.42718704e-01,  2.21413862e+00,  4.29398056e-01,\n",
       "         8.66944842e-01,  3.35380031e-01,  6.83314792e-01],\n",
       "       [-1.43941855e-01, -8.43769615e-01, -2.32173440e+00,\n",
       "        -5.40096046e-01,  3.17069247e+00,  1.56760270e+00],\n",
       "       [-4.78259688e-01,  6.86925713e-01, -6.78166656e-01,\n",
       "         1.06476364e+00,  1.65734610e+00,  2.56791453e+00],\n",
       "       [-1.07161004e+00,  2.20861440e-02, -6.01948716e-01,\n",
       "         1.48530654e+00,  1.73650530e+00,  3.73424398e+00]])"
      ]
     },
     "execution_count": 24,
     "metadata": {},
     "output_type": "execute_result"
    }
   ],
   "source": [
    "data_scaled = preprocessing.scale(new_data)\n",
    "data_scaled"
   ]
  },
  {
   "cell_type": "code",
   "execution_count": 25,
   "metadata": {
    "collapsed": true
   },
   "outputs": [],
   "source": [
    "X = data_scaled\n",
    "scores = []\n",
    "for i in range(2,18):\n",
    "    km = KMeans(n_clusters=i,init='k-means++',n_init=10,max_iter=300,random_state=0)\n",
    "    km.fit(X)\n",
    "    scores.append(metrics.silhouette_score(X,km.labels_ ,metric='euclidean'))"
   ]
  },
  {
   "cell_type": "code",
   "execution_count": 26,
   "metadata": {
    "collapsed": false
   },
   "outputs": [
    {
     "data": {
      "text/plain": [
       "<function matplotlib.pyplot.show>"
      ]
     },
     "execution_count": 26,
     "metadata": {},
     "output_type": "execute_result"
    },
    {
     "data": {
      "image/png": "[encoded data removed]",
      "text/plain": [
       "<Figure size 900x600 with 1 Axes>"
      ]
     },
     "metadata": {},
     "output_type": "display_data"
    }
   ],
   "source": [
    "%matplotlib inline\n",
    "plt.figure(dpi=150)\n",
    "plt.plot(range(2,18),scores,marker = 'o')\n",
    "plt.xlabel('Number of clusters')\n",
    "plt.ylabel('silhouette_score')\n",
    "plt.show"
   ]
  },
  {
   "cell_type": "code",
   "execution_count": 27,
   "metadata": {
    "collapsed": true
   },
   "outputs": [],
   "source": [
    "kmodel = KMeans(n_clusters = 2, n_jobs = 4, max_iter =1000 ) #n_jobs是并行数，一般等于CPU数较好\n",
    "kmodel.fit(data_scaled) #训练模型\n",
    "data_scaled = pd.DataFrame(data_scaled,columns = ['S_M','S_S','A_M','A_S','W_M','W_S'])"
   ]
  },
  {
   "cell_type": "code",
   "execution_count": 28,
   "metadata": {
    "collapsed": false
   },
   "outputs": [
    {
     "data": {
      "text/html": [
       "<div>\n",
       "<style scoped>\n",
       "    .dataframe tbody tr th:only-of-type {\n",
       "        vertical-align: middle;\n",
       "    }\n",
       "\n",
       "    .dataframe tbody tr th {\n",
       "        vertical-align: top;\n",
       "    }\n",
       "\n",
       "    .dataframe thead th {\n",
       "        text-align: right;\n",
       "    }\n",
       "</style>\n",
       "<table border=\"1\" class=\"dataframe\">\n",
       "  <thead>\n",
       "    <tr style=\"text-align: right;\">\n",
       "      <th></th>\n",
       "      <th>0</th>\n",
       "      <th>1</th>\n",
       "      <th>2</th>\n",
       "      <th>3</th>\n",
       "      <th>4</th>\n",
       "      <th>5</th>\n",
       "    </tr>\n",
       "  </thead>\n",
       "  <tbody>\n",
       "    <tr>\n",
       "      <th>0</th>\n",
       "      <td>-0.624391</td>\n",
       "      <td>-0.540313</td>\n",
       "      <td>-0.821077</td>\n",
       "      <td>-0.698240</td>\n",
       "      <td>-0.916023</td>\n",
       "      <td>-0.834930</td>\n",
       "    </tr>\n",
       "    <tr>\n",
       "      <th>1</th>\n",
       "      <td>0.369537</td>\n",
       "      <td>0.319777</td>\n",
       "      <td>0.485944</td>\n",
       "      <td>0.413244</td>\n",
       "      <td>0.542136</td>\n",
       "      <td>0.494142</td>\n",
       "    </tr>\n",
       "  </tbody>\n",
       "</table>\n",
       "</div>"
      ],
      "text/plain": [
       "          0         1         2         3         4         5\n",
       "0 -0.624391 -0.540313 -0.821077 -0.698240 -0.916023 -0.834930\n",
       "1  0.369537  0.319777  0.485944  0.413244  0.542136  0.494142"
      ]
     },
     "execution_count": 28,
     "metadata": {},
     "output_type": "execute_result"
    }
   ],
   "source": [
    "r1 = pd.Series(kmodel.labels_).value_counts()  #统计各个类别的数目\n",
    "r2 = pd.DataFrame(kmodel.cluster_centers_)     #找出聚类中心\n",
    "r = pd.concat([r2, r1], axis = 1)\n",
    "r.columns = list(data_scaled.columns) + [u'类别数目']\n",
    "r = pd.concat([data_scaled, pd.Series(kmodel.labels_, index = data_scaled.index)], axis = 1)  #详细输出每个样本对应的类别\n",
    "r.columns = list(data_scaled.columns) + [u'聚类类别']\n",
    "r.head()\n",
    "r2"
   ]
  },
  {
   "cell_type": "code",
   "execution_count": 29,
   "metadata": {
    "collapsed": false
   },
   "outputs": [
    {
     "data": {
      "text/plain": [
       "array([[2.44459132, 1.76420237, 2.74706034, 1.36659995, 3.4167045 ,\n",
       "        2.32111987],\n",
       "       [3.88704837, 2.68029194, 4.24183503, 2.04061304, 5.95128261,\n",
       "        3.76199753]])"
      ]
     },
     "execution_count": 29,
     "metadata": {},
     "output_type": "execute_result"
    }
   ],
   "source": [
    "from sklearn.preprocessing import StandardScaler\n",
    "scaler = StandardScaler()\n",
    "scaler = scaler.fit(new_data)\n",
    "scaler.inverse_transform(r2)"
   ]
  },
  {
   "cell_type": "code",
   "execution_count": 30,
   "metadata": {
    "collapsed": true
   },
   "outputs": [],
   "source": [
    "julei = pd.DataFrame()\n",
    "julei['room'] = data_sum['room']\n",
    "julei['cluster'] = r['聚类类别']\n",
    "julei.to_excel('二阶聚类2.xlsx',encoding='gbk')"
   ]
  },
  {
   "cell_type": "code",
   "execution_count": null,
   "metadata": {
    "collapsed": true
   },
   "outputs": [],
   "source": []
  }
 ],
 "metadata": {
  "kernelspec": {
   "display_name": "Python 3",
   "language": "python",
   "name": "python3"
  },
  "language_info": {
   "codemirror_mode": {
    "name": "ipython",
    "version": 3
   },
   "file_extension": ".py",
   "mimetype": "text/x-python",
   "name": "python",
   "nbconvert_exporter": "python",
   "pygments_lexer": "ipython3",
   "version": "3.5.6"
  },
  "toc": {
   "base_numbering": 1,
   "nav_menu": {},
   "number_sections": true,
   "sideBar": true,
   "skip_h1_title": false,
   "title_cell": "Table of Contents",
   "title_sidebar": "Contents",
   "toc_cell": false,
   "toc_position": {},
   "toc_section_display": true,
   "toc_window_display": false
  }
 },
 "nbformat": 4,
 "nbformat_minor": 1
}
